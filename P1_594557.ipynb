{
  "nbformat": 4,
  "nbformat_minor": 0,
  "metadata": {
    "colab": {
      "provenance": [],
      "authorship_tag": "ABX9TyN/kLoFBrJN5rSD8YJJReev",
      "include_colab_link": true
    },
    "kernelspec": {
      "name": "python3",
      "display_name": "Python 3"
    },
    "language_info": {
      "name": "python"
    }
  },
  "cells": [
    {
      "cell_type": "markdown",
      "metadata": {
        "id": "view-in-github",
        "colab_type": "text"
      },
      "source": [
        "<a href=\"https://colab.research.google.com/github/hectorcamachoz/Proyecto_1_InteligenciaArtificial/blob/main/P1_594557.ipynb\" target=\"_parent\"><img src=\"https://colab.research.google.com/assets/colab-badge.svg\" alt=\"Open In Colab\"/></a>"
      ]
    },
    {
      "cell_type": "markdown",
      "source": [
        "# Proyecto 1.\n",
        "\n",
        "El objetivo de este proyecto es realizar un modelo que prediga el numero bicicletas rentadas en un dia, utilizando los siguientes datos:\n",
        "- dteday - Dia\n",
        "- season - Temporada\n",
        "- yr - Año\n",
        "- mnth - Mes\n",
        "- holiday - Festividad\n",
        "- weekday - Dia entre semana\n",
        "- workingday - Dia laboral\n",
        "- weathersit - Clima\n",
        "- temp - Temperatura (°C)\n",
        "- atemp - Sensacion termica\n",
        "- hum - Humeadad\n",
        "- windspeed - Velocidad del aire\n",
        "- casual - Usuarios Casuales\n",
        "- registered - Usuarios Registrados\n",
        "\n",
        "Las variables de temperatura, atemp, y hum, windspeed, ya estan previamente normalizadas\n",
        "\n",
        "\n",
        "Esta base de datos cuenta con 731 observaciones y cuenta con 14 variables, sin contar la variable instant, que es el index, y la variable de salida Cnt que es el numero de bicicletas rentadas.\n",
        "\n",
        "**1.** Primero se importara la base de datos, para conocer sus caracteristicas, para despues comenzar a hacer una seleccion de variables."
      ],
      "metadata": {
        "id": "LT2Jt5cMfWXZ"
      }
    },
    {
      "cell_type": "code",
      "execution_count": 9,
      "metadata": {
        "colab": {
          "base_uri": "https://localhost:8080/"
        },
        "id": "nRq670XcepOP",
        "outputId": "63d3529b-3d20-4944-dda7-a22df381f5f7"
      },
      "outputs": [
        {
          "output_type": "stream",
          "name": "stdout",
          "text": [
            "Una muestra de las primeras 5 observaciones:\n",
            "    instant      dteday  season  yr  mnth  holiday  weekday  workingday  \\\n",
            "0        1  2011-01-01       1   0     1        0        6           0   \n",
            "1        2  2011-01-02       1   0     1        0        0           0   \n",
            "2        3  2011-01-03       1   0     1        0        1           1   \n",
            "3        4  2011-01-04       1   0     1        0        2           1   \n",
            "4        5  2011-01-05       1   0     1        0        3           1   \n",
            "\n",
            "   weathersit      temp     atemp       hum  windspeed  casual  registered  \\\n",
            "0           2  0.344167  0.363625  0.805833   0.160446     331         654   \n",
            "1           2  0.363478  0.353739  0.696087   0.248539     131         670   \n",
            "2           1  0.196364  0.189405  0.437273   0.248309     120        1229   \n",
            "3           1  0.200000  0.212122  0.590435   0.160296     108        1454   \n",
            "4           1  0.226957  0.229270  0.436957   0.186900      82        1518   \n",
            "\n",
            "    cnt  \n",
            "0   985  \n",
            "1   801  \n",
            "2  1349  \n",
            "3  1562  \n",
            "4  1600  \n",
            "\n",
            "El tamaño de nuestra base de datos:  (731, 16)\n",
            "\n",
            "Tipo de variables en la base de datos:\n",
            " instant         int64\n",
            "dteday         object\n",
            "season          int64\n",
            "yr              int64\n",
            "mnth            int64\n",
            "holiday         int64\n",
            "weekday         int64\n",
            "workingday      int64\n",
            "weathersit      int64\n",
            "temp          float64\n",
            "atemp         float64\n",
            "hum           float64\n",
            "windspeed     float64\n",
            "casual          int64\n",
            "registered      int64\n",
            "cnt             int64\n",
            "dtype: object\n"
          ]
        }
      ],
      "source": [
        "import pandas as pd\n",
        "df = pd.read_csv('day.csv')\n",
        "\n",
        "print('Una muestra de las primeras 5 observaciones:\\n',df.head())\n",
        "\n",
        "print('\\nEl tamaño de nuestra base de datos: ',df.shape)\n",
        "\n",
        "print('\\nTipo de variables en la base de datos:\\n',df.dtypes)"
      ]
    },
    {
      "cell_type": "markdown",
      "source": [],
      "metadata": {
        "id": "uRADaweIfQ9H"
      }
    }
  ]
}